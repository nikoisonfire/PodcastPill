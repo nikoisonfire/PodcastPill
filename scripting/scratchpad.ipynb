{
 "cells": [
  {
   "cell_type": "code",
   "execution_count": 1,
   "metadata": {},
   "outputs": [],
   "source": [
    "# Imports, run first\n",
    "import json\n",
    "from datetime import date"
   ]
  },
  {
   "cell_type": "code",
   "execution_count": 2,
   "metadata": {},
   "outputs": [
    {
     "name": "stdout",
     "output_type": "stream",
     "text": [
      "Wednesday : 2023-03-15\n",
      "Friday : 2023-03-10\n",
      "Wednesday : 2023-03-08\n",
      "Friday : 2023-03-03\n",
      "Wednesday : 2023-03-01\n",
      "Friday : 2023-02-24\n",
      "Wednesday : 2023-02-22\n",
      "Monday : 2023-02-20\n",
      "Friday : 2023-02-17\n",
      "Wednesday : 2023-02-15\n",
      "Friday : 2023-02-10\n",
      "Wednesday : 2023-02-08\n",
      "Friday : 2023-02-03\n",
      "Wednesday : 2023-02-01\n",
      "Friday : 2023-01-27\n"
     ]
    }
   ],
   "source": [
    "## Examine Dates on Episodes\n",
    "with open(\"podcast_example.json\", \"r\") as file:\n",
    "    data = json.load(file)\n",
    "\n",
    "for x in data:\n",
    "    dt = date.fromtimestamp(x[\"datePublished\"])\n",
    "    print(f\"{dt.strftime('%A')} : {dt}\")"
   ]
  },
  {
   "cell_type": "code",
   "execution_count": 3,
   "metadata": {},
   "outputs": [
    {
     "data": {
      "text/plain": [
       "'3.11.2 (v3.11.2:878ead1ac1, Feb  7 2023, 10:02:41) [Clang 13.0.0 (clang-1300.0.29.30)]'"
      ]
     },
     "execution_count": 3,
     "metadata": {},
     "output_type": "execute_result"
    }
   ],
   "source": [
    "import sys\n",
    "sys.version"
   ]
  },
  {
   "cell_type": "code",
   "execution_count": 12,
   "metadata": {},
   "outputs": [
    {
     "name": "stdout",
     "output_type": "stream",
     "text": [
      "monday: 0\n",
      "tuesday: 259\n",
      "wednesday: 741\n",
      "thursday: 0\n",
      "friday: 0\n",
      "saturday: 0\n",
      "sunday: 0\n"
     ]
    }
   ],
   "source": [
    "with open(\"podcast_data.json\", \"r\") as file:\n",
    "    data = json.load(file)\n",
    "\n",
    "monday, tuesday, wednesday, thursday, friday, saturday, sunday = 0, 0, 0, 0, 0, 0, 0\n",
    "for x in data:\n",
    "    dt = date.fromtimestamp(x[\"newestItemPublishTime\"])\n",
    "    weekday = dt.strftime('%A')\n",
    "    match weekday:\n",
    "        case 'Monday':\n",
    "            monday += 1\n",
    "        case 'Tuesday':\n",
    "            tuesday += 1\n",
    "        case 'Wednesday':\n",
    "            wednesday += 1\n",
    "        case 'Thursday':\n",
    "            thursday += 1\n",
    "        case 'Friday':\n",
    "            friday += 1\n",
    "        case 'Saturday':\n",
    "            saturday += 1\n",
    "        case 'Sunday':\n",
    "            sunday += 1\n",
    "    \n",
    "print(f\"monday: {monday}\")\n",
    "print(f\"tuesday: {tuesday}\")\n",
    "print(f\"wednesday: {wednesday}\")\n",
    "print(f\"thursday: {thursday}\")\n",
    "print(f\"friday: {friday}\")\n",
    "print(f\"saturday: {monday}\")\n",
    "print(f\"sunday: {sunday}\")"
   ]
  },
  {
   "cell_type": "code",
   "execution_count": 5,
   "metadata": {},
   "outputs": [
    {
     "name": "stdout",
     "output_type": "stream",
     "text": [
      "[0.025, 0.425, 0.075, 0.325, 0.15, 0.0, 0.0]\n"
     ]
    }
   ],
   "source": [
    "test = [1, 17, 3, 13, 6, 0, 0]\n",
    "tsum = sum(test)\n",
    "print([x/tsum for x in test])"
   ]
  }
 ],
 "metadata": {
  "kernelspec": {
   "display_name": "Python 3",
   "language": "python",
   "name": "python3"
  },
  "language_info": {
   "codemirror_mode": {
    "name": "ipython",
    "version": 3
   },
   "file_extension": ".py",
   "mimetype": "text/x-python",
   "name": "python",
   "nbconvert_exporter": "python",
   "pygments_lexer": "ipython3",
   "version": "3.11.2"
  },
  "orig_nbformat": 4
 },
 "nbformat": 4,
 "nbformat_minor": 2
}
