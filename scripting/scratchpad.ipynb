{
 "cells": [
  {
   "cell_type": "code",
   "execution_count": 7,
   "outputs": [
    {
     "ename": "TypeError",
     "evalue": "str.format() argument after ** must be a mapping, not Podcast",
     "output_type": "error",
     "traceback": [
      "\u001B[0;31m---------------------------------------------------------------------------\u001B[0m",
      "\u001B[0;31mTypeError\u001B[0m                                 Traceback (most recent call last)",
      "Cell \u001B[0;32mIn[7], line 5\u001B[0m\n\u001B[1;32m      1\u001B[0m \u001B[38;5;28;01mfrom\u001B[39;00m \u001B[38;5;21;01mapi_pull_service\u001B[39;00m\u001B[38;5;21;01m.\u001B[39;00m\u001B[38;5;21;01mPodcast\u001B[39;00m \u001B[38;5;28;01mimport\u001B[39;00m Podcast\n\u001B[1;32m      3\u001B[0m p \u001B[38;5;241m=\u001B[39m Podcast(\u001B[38;5;241m23\u001B[39m, \u001B[38;5;124m\"\u001B[39m\u001B[38;5;124masdasd\u001B[39m\u001B[38;5;124m\"\u001B[39m, \u001B[38;5;124m\"\u001B[39m\u001B[38;5;124masdasd\u001B[39m\u001B[38;5;124m\"\u001B[39m, \u001B[38;5;124m\"\u001B[39m\u001B[38;5;124masdasd\u001B[39m\u001B[38;5;124m\"\u001B[39m, [\u001B[38;5;124m\"\u001B[39m\u001B[38;5;124masd\u001B[39m\u001B[38;5;124m\"\u001B[39m,\u001B[38;5;124m\"\u001B[39m\u001B[38;5;124mamkml\u001B[39m\u001B[38;5;124m\"\u001B[39m], [\u001B[38;5;241m0.2\u001B[39m, \u001B[38;5;241m0.3\u001B[39m])\n\u001B[0;32m----> 5\u001B[0m insert_podcasts \u001B[38;5;241m=\u001B[39m \u001B[38;5;124m'''\u001B[39m\n\u001B[1;32m      6\u001B[0m \u001B[38;5;124m    INSERT INTO podcastpill.podcasts\u001B[39m\n\u001B[1;32m      7\u001B[0m \u001B[38;5;124m    (podcast_id, title, description, image)\u001B[39m\n\u001B[1;32m      8\u001B[0m \u001B[38;5;124m    VALUES (\u001B[39m\n\u001B[1;32m      9\u001B[0m \u001B[38;5;124m        \u001B[39m\u001B[38;5;124m\"\u001B[39m\u001B[38;5;132;01m{id}\u001B[39;00m\u001B[38;5;124m\"\u001B[39m\u001B[38;5;124m,\u001B[39m\n\u001B[1;32m     10\u001B[0m \u001B[38;5;124m        \u001B[39m\u001B[38;5;124m\"\u001B[39m\u001B[38;5;132;01m{title}\u001B[39;00m\u001B[38;5;124m\"\u001B[39m\u001B[38;5;124m,\u001B[39m\n\u001B[1;32m     11\u001B[0m \u001B[38;5;124m        \u001B[39m\u001B[38;5;124m\"\u001B[39m\u001B[38;5;132;01m{description}\u001B[39;00m\u001B[38;5;124m\"\u001B[39m\u001B[38;5;124m,\u001B[39m\n\u001B[1;32m     12\u001B[0m \u001B[38;5;124m        \u001B[39m\u001B[38;5;124m\"\u001B[39m\u001B[38;5;132;01m{image}\u001B[39;00m\u001B[38;5;124m\"\u001B[39m\n\u001B[1;32m     13\u001B[0m \u001B[38;5;124m    );\u001B[39m\n\u001B[1;32m     14\u001B[0m \u001B[38;5;124m'''\u001B[39m\u001B[38;5;241m.\u001B[39mformat(\u001B[38;5;241m*\u001B[39m\u001B[38;5;241m*\u001B[39mp)\n\u001B[1;32m     16\u001B[0m insert_podcasts\n",
      "\u001B[0;31mTypeError\u001B[0m: str.format() argument after ** must be a mapping, not Podcast"
     ]
    }
   ],
   "source": [
    "from api_pull_service.Podcast import Podcast\n",
    "\n",
    "p = Podcast(23, \"asdasd\", \"asdasd\", \"asdasd\", [\"asd\",\"amkml\"], [0.2, 0.3])\n",
    "\n",
    "insert_podcasts = '''\n",
    "    INSERT INTO podcastpill.podcasts\n",
    "    (podcast_id, title, description, image)\n",
    "    VALUES (\n",
    "        \"{id}\",\n",
    "        \"{title}\",\n",
    "        \"{description}\",\n",
    "        \"{image}\"\n",
    "    );\n",
    "'''.format(**p)\n",
    "\n",
    "insert_podcasts"
   ],
   "metadata": {
    "collapsed": false
   }
  }
 ],
 "metadata": {
  "kernelspec": {
   "display_name": "Python 3",
   "language": "python",
   "name": "python3"
  },
  "language_info": {
   "codemirror_mode": {
    "name": "ipython",
    "version": 3
   },
   "file_extension": ".py",
   "mimetype": "text/x-python",
   "name": "python",
   "nbconvert_exporter": "python",
   "pygments_lexer": "ipython3",
   "version": "3.11.2"
  },
  "orig_nbformat": 4
 },
 "nbformat": 4,
 "nbformat_minor": 2
}
